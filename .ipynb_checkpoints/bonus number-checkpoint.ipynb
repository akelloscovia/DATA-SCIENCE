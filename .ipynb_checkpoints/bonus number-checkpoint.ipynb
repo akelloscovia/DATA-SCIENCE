{
 "cells": [
  {
   "cell_type": "code",
   "execution_count": 2,
   "id": "cf8364e1-12c0-4fff-8b63-b5dab08efde8",
   "metadata": {},
   "outputs": [],
   "source": [
    "import numpy as np"
   ]
  },
  {
   "cell_type": "code",
   "execution_count": 3,
   "id": "33e8b502-bd9d-4daa-98fa-ef078bcbeda1",
   "metadata": {},
   "outputs": [],
   "source": [
    "from numpy import random"
   ]
  },
  {
   "cell_type": "code",
   "execution_count": null,
   "id": "2ca75162-5566-4474-bd95-5b98f002ec9d",
   "metadata": {},
   "outputs": [],
   "source": [
    "#(a)"
   ]
  },
  {
   "cell_type": "code",
   "execution_count": 4,
   "id": "0e8dc6dd-b922-4b0c-86c3-b93f462d14fa",
   "metadata": {},
   "outputs": [
    {
     "name": "stdout",
     "output_type": "stream",
     "text": [
      "[[44 15]\n",
      " [44 18]\n",
      " [64 20]\n",
      " [28 11]\n",
      " [28 10]]\n"
     ]
    }
   ],
   "source": [
    "x = np.array([[2,3,4],\n",
    "              [6,2,2],\n",
    "              [2,8,4],\n",
    "              [3,1,2],\n",
    "              [2,2,2]])\n",
    "y = np.array([[4,2],\n",
    "              [4,1],\n",
    "              [6,2]])\n",
    "\n",
    "# multiplying a 5x3 by a 3x2\n",
    "z=np.dot(x,y)\n",
    "print(z)\n"
   ]
  },
  {
   "cell_type": "code",
   "execution_count": null,
   "id": "a0a835f7-513d-4288-ab03-cd4aacb0b072",
   "metadata": {},
   "outputs": [],
   "source": [
    "#(b)"
   ]
  },
  {
   "cell_type": "code",
   "execution_count": 4,
   "id": "2dec9012-0ce5-4abc-af72-6c38a5c898db",
   "metadata": {},
   "outputs": [
    {
     "data": {
      "text/plain": [
       "array([[1., 0., 0.],\n",
       "       [0., 1., 0.],\n",
       "       [0., 0., 1.]])"
      ]
     },
     "execution_count": 4,
     "metadata": {},
     "output_type": "execute_result"
    }
   ],
   "source": [
    "identity_matrix = np.eye(3) \n",
    "print(identity_matrix)"
   ]
  },
  {
   "cell_type": "code",
   "execution_count": null,
   "id": "8f164695-aafb-4043-8873-1fbaceff6590",
   "metadata": {},
   "outputs": [],
   "source": [
    "#(c)"
   ]
  },
  {
   "cell_type": "code",
   "execution_count": 6,
   "id": "a3e88e9e-80a7-4602-ac51-ab4c3f8daac6",
   "metadata": {},
   "outputs": [
    {
     "name": "stdout",
     "output_type": "stream",
     "text": [
      "[10 11 12 13 14 15 16 17 18 19 20 21 22 23 24 25 26 27 28 29 30 31 32 33\n",
      " 34 35 36 37 38 39 40 41 42 43 44 45 46 47 48]\n"
     ]
    }
   ],
   "source": [
    "vector = np.arange(10,49)\n",
    "print(vector)"
   ]
  },
  {
   "cell_type": "code",
   "execution_count": null,
   "id": "5ea7f7f7-ff0f-4841-88cc-abb37c6d2be7",
   "metadata": {},
   "outputs": [],
   "source": [
    "#(d)"
   ]
  },
  {
   "cell_type": "code",
   "execution_count": 7,
   "id": "e736ded6-75bd-446d-9f72-b118f1d19b9f",
   "metadata": {},
   "outputs": [
    {
     "name": "stdout",
     "output_type": "stream",
     "text": [
      "[0. 0. 0. 0. 0. 0. 0. 0. 0. 0.]\n"
     ]
    }
   ],
   "source": [
    "null = np.zeros(10)\n",
    "print(null)"
   ]
  },
  {
   "cell_type": "code",
   "execution_count": null,
   "id": "d40afa9a-398a-4279-977b-2790d02f3083",
   "metadata": {},
   "outputs": [],
   "source": [
    "# (e)"
   ]
  },
  {
   "cell_type": "code",
   "execution_count": 8,
   "id": "51a13a5d-494a-4fde-978f-c545e4fb2b9b",
   "metadata": {},
   "outputs": [
    {
     "name": "stdout",
     "output_type": "stream",
     "text": [
      "[[[0.92858289 0.83350775 0.61713687]\n",
      "  [0.20221884 0.10837122 0.97178505]\n",
      "  [0.95275216 0.80635787 0.41438461]]\n",
      "\n",
      " [[0.46217011 0.33289618 0.39609123]\n",
      "  [0.24045101 0.61339414 0.65576491]\n",
      "  [0.05737368 0.13157238 0.86851761]]\n",
      "\n",
      " [[0.46450509 0.25695844 0.98577892]\n",
      "  [0.41556518 0.99435369 0.89777259]\n",
      "  [0.93798963 0.11967003 0.94882164]]]\n"
     ]
    }
   ],
   "source": [
    "array = np.random.random((3,3,3))\n",
    "print(array)"
   ]
  },
  {
   "cell_type": "code",
   "execution_count": null,
   "id": "e839d7eb-9533-4479-8c8d-8884dc0cea6d",
   "metadata": {},
   "outputs": [],
   "source": [
    "# (f)"
   ]
  },
  {
   "cell_type": "code",
   "execution_count": 9,
   "id": "5c6e8dac-95c2-4641-9185-9a2bd2289ab6",
   "metadata": {},
   "outputs": [
    {
     "name": "stdout",
     "output_type": "stream",
     "text": [
      "[[0 0 0 0 0]\n",
      " [1 0 0 0 0]\n",
      " [0 2 0 0 0]\n",
      " [0 0 3 0 0]\n",
      " [0 0 0 4 0]]\n"
     ]
    }
   ],
   "source": [
    "matrix = np.diag(np.arange(1,5), k = -1)\n",
    "print(matrix)"
   ]
  },
  {
   "cell_type": "code",
   "execution_count": null,
   "id": "ce98c76e-6bc1-4a5f-b531-a97bd440ee67",
   "metadata": {},
   "outputs": [],
   "source": [
    "#(g)"
   ]
  },
  {
   "cell_type": "code",
   "execution_count": 10,
   "id": "1bb5e8f2-146c-484f-80a6-a69220fca3ee",
   "metadata": {},
   "outputs": [
    {
     "name": "stdout",
     "output_type": "stream",
     "text": [
      "[[ 1.29565554 -1.35224662  0.85772904 -0.44773216  0.09081616]\n",
      " [ 1.78418732  0.65739913  0.55227891 -1.13007265 -0.65951739]\n",
      " [-1.77350618 -0.59741247 -0.90494271 -0.28465119  0.51268814]\n",
      " [-0.02452111  1.34123214 -0.56884424  0.99151988 -0.52013363]\n",
      " [ 0.38774958 -1.61607054 -1.04497868  1.29900618  1.15436755]]\n"
     ]
    }
   ],
   "source": [
    "matrix = np.random.random((5,5))\n",
    "nomalized_matrix = (matrix - matrix.mean())/ matrix.std()\n",
    "print(nomalized_matrix)"
   ]
  },
  {
   "cell_type": "code",
   "execution_count": null,
   "id": "a1fb3556-6b5f-4154-9bcf-5be3a16453f6",
   "metadata": {},
   "outputs": [],
   "source": [
    "#(h)"
   ]
  },
  {
   "cell_type": "code",
   "execution_count": 11,
   "id": "11f15df8-1a48-41eb-93c2-28b83bc5f856",
   "metadata": {},
   "outputs": [
    {
     "name": "stdout",
     "output_type": "stream",
     "text": [
      "Yesterday: 2024-12-12\n",
      "Today: 2024-12-13\n",
      "Tomorrow: 2024-12-14\n"
     ]
    }
   ],
   "source": [
    "from datetime import datetime, timedelta\n",
    "\n",
    "# Getting today's date\n",
    "today = datetime.today()\n",
    "\n",
    "# Getting yesterday's date we subtract one day from today\n",
    "yesterday = today - timedelta(days=1)\n",
    "\n",
    "# Getting tomorrow's date we add one day to today\n",
    "tomorrow = today + timedelta(days=1)\n",
    "\n",
    "# Printting  the dates\n",
    "print(\"Yesterday:\", yesterday.date())\n",
    "print(\"Today:\", today.date())\n",
    "print(\"Tomorrow:\", tomorrow.date())\n"
   ]
  },
  {
   "cell_type": "code",
   "execution_count": null,
   "id": "6a4ca240-f2dd-4259-a246-d3dd0ecfbf3a",
   "metadata": {},
   "outputs": [],
   "source": [
    "#(i)"
   ]
  },
  {
   "cell_type": "code",
   "execution_count": 12,
   "id": "7fbeabdb-2415-49dd-82ee-1f252033d31b",
   "metadata": {},
   "outputs": [
    {
     "ename": "SyntaxError",
     "evalue": "invalid syntax (2925031665.py, line 1)",
     "output_type": "error",
     "traceback": [
      "\u001b[1;36m  Cell \u001b[1;32mIn[12], line 1\u001b[1;36m\u001b[0m\n\u001b[1;33m    Creating the array(Let A be the array)# np.array([1, 2, 0, 0, 4, 0]):  converts the list into a numpy array\u001b[0m\n\u001b[1;37m             ^\u001b[0m\n\u001b[1;31mSyntaxError\u001b[0m\u001b[1;31m:\u001b[0m invalid syntax\n"
     ]
    }
   ],
   "source": [
    " Creating the array(Let A be the array)# np.array([1, 2, 0, 0, 4, 0]):  converts the list into a numpy array\n",
    "A = np.array([1, 2, 0, 0, 4, 0])\n",
    "\n",
    "# Finding indices of non-zero elements\n",
    "non_zero_indices = np.nonzero(A)\n",
    "print(\"Indices of non-zero elements:\", non_zero_indices[0])\n",
    " \n"
   ]
  },
  {
   "cell_type": "code",
   "execution_count": null,
   "id": "670ee4fc-eb19-4800-b857-d6e9651c6413",
   "metadata": {},
   "outputs": [],
   "source": []
  }
 ],
 "metadata": {
  "kernelspec": {
   "display_name": "Python 3 (ipykernel)",
   "language": "python",
   "name": "python3"
  },
  "language_info": {
   "codemirror_mode": {
    "name": "ipython",
    "version": 3
   },
   "file_extension": ".py",
   "mimetype": "text/x-python",
   "name": "python",
   "nbconvert_exporter": "python",
   "pygments_lexer": "ipython3",
   "version": "3.12.8"
  }
 },
 "nbformat": 4,
 "nbformat_minor": 5
}
